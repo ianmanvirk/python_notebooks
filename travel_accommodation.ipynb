{
 "cells": [
  {
   "cell_type": "markdown",
   "id": "d8aee904",
   "metadata": {
    "papermill": {
     "duration": 0.010536,
     "end_time": "2022-08-04T20:03:17.113858",
     "exception": false,
     "start_time": "2022-08-04T20:03:17.103322",
     "status": "completed"
    },
    "tags": []
   },
   "source": [
    "### Table of Contents\n",
    "\n",
    "1. [Loading libraries and data](#loading_lib_data)\n",
    "    - 1.1 [Libraries](#libraries)\n",
    "    - 1.2 [Raw data](#raw_data)\n",
    "2. [Exploratory Data Analysis](#eda)\n",
    "    - 2.1 [Data Initial Cleanup](#initial_cleanup)\n",
    "    - 2.2 [Data Visualisation](#visualisation)\n",
    "3. [Data preprocessing](#data_preprocessing)\n",
    "    - 3.1 [One Hot Encoding](#ohe)\n",
    "    - 3.2 [Principal Component Analysis](#pca)\n",
    "    - 3.3 [Scaling and PCA](#scale_pca)\n",
    "4. [Testing basic classifiers](#testing_classifiers)"
   ]
  },
  {
   "cell_type": "markdown",
   "id": "833e7708",
   "metadata": {
    "papermill": {
     "duration": 0.008095,
     "end_time": "2022-08-04T20:03:17.131249",
     "exception": false,
     "start_time": "2022-08-04T20:03:17.123154",
     "status": "completed"
    },
    "tags": []
   },
   "source": [
    "### 1. Loading libraries and data <a class=\"anchor\" id=\"loading_lib_data\"></a>"
   ]
  },
  {
   "cell_type": "markdown",
   "id": "cd6322c3",
   "metadata": {
    "papermill": {
     "duration": 0.008148,
     "end_time": "2022-08-04T20:03:17.147878",
     "exception": false,
     "start_time": "2022-08-04T20:03:17.139730",
     "status": "completed"
    },
    "tags": []
   },
   "source": [
    "#### 1.1 Libraries <a class=\"anchor\" id=\"libraries\"></a>"
   ]
  },
  {
   "cell_type": "code",
   "execution_count": 1,
   "id": "97e3c1e0",
   "metadata": {
    "_cell_guid": "b1076dfc-b9ad-4769-8c92-a6c4dae69d19",
    "_uuid": "8f2839f25d086af736a60e9eeb907d3b93b6e0e5",
    "execution": {
     "iopub.execute_input": "2022-08-04T20:03:17.167420Z",
     "iopub.status.busy": "2022-08-04T20:03:17.165905Z",
     "iopub.status.idle": "2022-08-04T20:03:19.069687Z",
     "shell.execute_reply": "2022-08-04T20:03:19.068532Z"
    },
    "papermill": {
     "duration": 1.916339,
     "end_time": "2022-08-04T20:03:19.072481",
     "exception": false,
     "start_time": "2022-08-04T20:03:17.156142",
     "status": "completed"
    },
    "tags": []
   },
   "outputs": [],
   "source": [
    "import pandas as pd\n",
    "import os\n",
    "import time\n",
    "\n",
    "import matplotlib.pyplot as plt\n",
    "import seaborn as sns\n",
    "\n",
    "from sklearn.linear_model import LogisticRegression\n",
    "from sklearn.tree import DecisionTreeClassifier\n",
    "from sklearn.ensemble import RandomForestClassifier\n",
    "from sklearn.neighbors import KNeighborsClassifier\n",
    "\n",
    "from sklearn.preprocessing import StandardScaler\n",
    "from sklearn.pipeline import make_pipeline\n",
    "from sklearn.decomposition import PCA\n",
    "from sklearn.metrics import log_loss, f1_score, roc_auc_score\n",
    "from sklearn.model_selection import train_test_split, cross_val_score"
   ]
  },
  {
   "cell_type": "markdown",
   "id": "f782e188",
   "metadata": {
    "papermill": {
     "duration": 0.008073,
     "end_time": "2022-08-04T20:03:19.090123",
     "exception": false,
     "start_time": "2022-08-04T20:03:19.082050",
     "status": "completed"
    },
    "tags": []
   },
   "source": [
    "#### 1.2 Raw Data <a class=\"anchor\" id=\"raw_data\"></a>"
   ]
  },
  {
   "cell_type": "code",
   "execution_count": 2,
   "id": "e950f6df",
   "metadata": {
    "execution": {
     "iopub.execute_input": "2022-08-04T20:03:19.109029Z",
     "iopub.status.busy": "2022-08-04T20:03:19.108528Z",
     "iopub.status.idle": "2022-08-04T20:03:19.187294Z",
     "shell.execute_reply": "2022-08-04T20:03:19.185461Z"
    },
    "papermill": {
     "duration": 0.091381,
     "end_time": "2022-08-04T20:03:19.189898",
     "exception": false,
     "start_time": "2022-08-04T20:03:19.098517",
     "status": "completed"
    },
    "tags": []
   },
   "outputs": [
    {
     "name": "stdout",
     "output_type": "stream",
     "text": [
      "                 0\n",
      "0   [1] \"Record 1\"\n",
      "1      [1] 1010286\n",
      "2            [1] 7\n",
      "3            [1] F\n",
      "4           [1] 40\n",
      "5            [1] 0\n",
      "6           [1] SE\n",
      "7          [1] Apt\n",
      "8   [1] \"Record 2\"\n",
      "9      [1] 1000152\n",
      "10           [1] 5\n",
      "11           [1] M\n",
      "12        [1] <NA>\n",
      "13           [1] 0\n",
      "14        [1] <NA>\n",
      "15         [1] Apt\n",
      "16  [1] \"Record 3\"\n",
      "17     [1] 1009019\n",
      "18           [1] 4\n",
      "19           [1] F\n",
      "\n",
      "Data length: 78944\n"
     ]
    }
   ],
   "source": [
    "for dirname, _, filenames in os.walk('../input/'):\n",
    "    for filename in filenames:\n",
    "        data = pd.read_csv(os.path.join(dirname, filename), header=None)\n",
    "        \n",
    "print(data.iloc[:20])\n",
    "print('\\nData length: {}'.format(len(data)))"
   ]
  },
  {
   "cell_type": "markdown",
   "id": "ed81c76e",
   "metadata": {
    "papermill": {
     "duration": 0.010565,
     "end_time": "2022-08-04T20:03:19.209575",
     "exception": false,
     "start_time": "2022-08-04T20:03:19.199010",
     "status": "completed"
    },
    "tags": []
   },
   "source": [
    "### 2. Exploratory Data Analysis <a class=\"anchor\" id=\"eda\"></a>"
   ]
  },
  {
   "cell_type": "markdown",
   "id": "117946d6",
   "metadata": {
    "papermill": {
     "duration": 0.008263,
     "end_time": "2022-08-04T20:03:19.228013",
     "exception": false,
     "start_time": "2022-08-04T20:03:19.219750",
     "status": "completed"
    },
    "tags": []
   },
   "source": [
    "#### 2.1 Data Initial Cleanup <a class=\"anchor\" id=\"initial_cleanup\"></a>"
   ]
  },
  {
   "cell_type": "code",
   "execution_count": 3,
   "id": "e1c79302",
   "metadata": {
    "execution": {
     "iopub.execute_input": "2022-08-04T20:03:19.248092Z",
     "iopub.status.busy": "2022-08-04T20:03:19.247663Z",
     "iopub.status.idle": "2022-08-04T20:03:19.321606Z",
     "shell.execute_reply": "2022-08-04T20:03:19.320171Z"
    },
    "papermill": {
     "duration": 0.08771,
     "end_time": "2022-08-04T20:03:19.325101",
     "exception": false,
     "start_time": "2022-08-04T20:03:19.237391",
     "status": "completed"
    },
    "tags": []
   },
   "outputs": [
    {
     "name": "stdout",
     "output_type": "stream",
     "text": [
      "        id durationOfStay gender  Age kids destinationCode AcomType\n",
      "0  1010286              7      F   40    0              SE      Apt\n",
      "1  1000152              5      M  NaN    0             NaN      Apt\n",
      "2  1009019              4      F   39    1              ES    Hotel\n",
      "3  1007840              5      F   45    0              NL    Hotel\n",
      "4  1006939              5      M   45    1              UK    Hotel\n",
      "5  1008812              7      F   47    1              IT      Apt\n",
      "6  1013918              3      F   53    0              NL    Hotel\n",
      "7  1005722              2      F   47    0              FI    Hotel\n",
      "8  1003006              3      M   39    1              SE      Apt\n",
      "9  1006149              5      F   31  NaN              FI      Apt\n"
     ]
    }
   ],
   "source": [
    "cols = ['id','durationOfStay', 'gender', 'Age', 'kids'\n",
    "         , 'destinationCode', 'AcomType']\n",
    "tmp = [x.replace('[1] ','') for x in data[0]]\n",
    "tmp = [float('NaN') if x=='<NA>' else x for x in tmp]\n",
    "lst = []\n",
    "clen = len(cols)\n",
    "i=1\n",
    "while i<len(data):\n",
    "    lst.append(tmp[i:i+7])\n",
    "    i+=clen+1\n",
    "\n",
    "df = pd.DataFrame(lst)\n",
    "df.columns = cols\n",
    "print(df.iloc[:10])"
   ]
  },
  {
   "cell_type": "code",
   "execution_count": 4,
   "id": "2b9e81c2",
   "metadata": {
    "execution": {
     "iopub.execute_input": "2022-08-04T20:03:19.345599Z",
     "iopub.status.busy": "2022-08-04T20:03:19.344086Z",
     "iopub.status.idle": "2022-08-04T20:03:19.379863Z",
     "shell.execute_reply": "2022-08-04T20:03:19.378232Z"
    },
    "papermill": {
     "duration": 0.048806,
     "end_time": "2022-08-04T20:03:19.382826",
     "exception": false,
     "start_time": "2022-08-04T20:03:19.334020",
     "status": "completed"
    },
    "tags": []
   },
   "outputs": [
    {
     "name": "stdout",
     "output_type": "stream",
     "text": [
      "<class 'pandas.core.frame.DataFrame'>\n",
      "RangeIndex: 9868 entries, 0 to 9867\n",
      "Data columns (total 7 columns):\n",
      " #   Column           Non-Null Count  Dtype \n",
      "---  ------           --------------  ----- \n",
      " 0   id               9868 non-null   object\n",
      " 1   durationOfStay   9868 non-null   object\n",
      " 2   gender           9868 non-null   object\n",
      " 3   Age              8874 non-null   object\n",
      " 4   kids             8897 non-null   object\n",
      " 5   destinationCode  8872 non-null   object\n",
      " 6   AcomType         9868 non-null   object\n",
      "dtypes: object(7)\n",
      "memory usage: 539.8+ KB\n"
     ]
    }
   ],
   "source": [
    "df.info()"
   ]
  },
  {
   "cell_type": "code",
   "execution_count": 5,
   "id": "3077f1a8",
   "metadata": {
    "execution": {
     "iopub.execute_input": "2022-08-04T20:03:19.404005Z",
     "iopub.status.busy": "2022-08-04T20:03:19.403477Z",
     "iopub.status.idle": "2022-08-04T20:03:19.425953Z",
     "shell.execute_reply": "2022-08-04T20:03:19.424581Z"
    },
    "papermill": {
     "duration": 0.036175,
     "end_time": "2022-08-04T20:03:19.428961",
     "exception": false,
     "start_time": "2022-08-04T20:03:19.392786",
     "status": "completed"
    },
    "tags": []
   },
   "outputs": [
    {
     "data": {
      "text/plain": [
       "id                   0\n",
       "durationOfStay       0\n",
       "gender               0\n",
       "Age                994\n",
       "kids               971\n",
       "destinationCode    996\n",
       "AcomType             0\n",
       "dtype: int64"
      ]
     },
     "execution_count": 5,
     "metadata": {},
     "output_type": "execute_result"
    }
   ],
   "source": [
    "df.isnull().sum()"
   ]
  },
  {
   "cell_type": "code",
   "execution_count": 6,
   "id": "510ccc13",
   "metadata": {
    "execution": {
     "iopub.execute_input": "2022-08-04T20:03:19.450202Z",
     "iopub.status.busy": "2022-08-04T20:03:19.448846Z",
     "iopub.status.idle": "2022-08-04T20:03:19.467139Z",
     "shell.execute_reply": "2022-08-04T20:03:19.465625Z"
    },
    "papermill": {
     "duration": 0.032279,
     "end_time": "2022-08-04T20:03:19.470875",
     "exception": false,
     "start_time": "2022-08-04T20:03:19.438596",
     "status": "completed"
    },
    "tags": []
   },
   "outputs": [
    {
     "name": "stdout",
     "output_type": "stream",
     "text": [
      "Initial size: (9868, 7)\n",
      "Drop NA size: (7202, 7)\n"
     ]
    }
   ],
   "source": [
    "print('Initial size: {}'.format(df.shape))\n",
    "print('Drop NA size: {}'.format(df.dropna().shape))"
   ]
  },
  {
   "cell_type": "code",
   "execution_count": 7,
   "id": "f56519e3",
   "metadata": {
    "execution": {
     "iopub.execute_input": "2022-08-04T20:03:19.492316Z",
     "iopub.status.busy": "2022-08-04T20:03:19.491579Z",
     "iopub.status.idle": "2022-08-04T20:03:19.507790Z",
     "shell.execute_reply": "2022-08-04T20:03:19.505927Z"
    },
    "papermill": {
     "duration": 0.030161,
     "end_time": "2022-08-04T20:03:19.511131",
     "exception": false,
     "start_time": "2022-08-04T20:03:19.480970",
     "status": "completed"
    },
    "tags": []
   },
   "outputs": [],
   "source": [
    "df = df.dropna()"
   ]
  },
  {
   "cell_type": "code",
   "execution_count": 8,
   "id": "c9508cdd",
   "metadata": {
    "execution": {
     "iopub.execute_input": "2022-08-04T20:03:19.534426Z",
     "iopub.status.busy": "2022-08-04T20:03:19.533324Z",
     "iopub.status.idle": "2022-08-04T20:03:19.580833Z",
     "shell.execute_reply": "2022-08-04T20:03:19.579405Z"
    },
    "papermill": {
     "duration": 0.062219,
     "end_time": "2022-08-04T20:03:19.583806",
     "exception": false,
     "start_time": "2022-08-04T20:03:19.521587",
     "status": "completed"
    },
    "tags": []
   },
   "outputs": [
    {
     "data": {
      "text/html": [
       "<div>\n",
       "<style scoped>\n",
       "    .dataframe tbody tr th:only-of-type {\n",
       "        vertical-align: middle;\n",
       "    }\n",
       "\n",
       "    .dataframe tbody tr th {\n",
       "        vertical-align: top;\n",
       "    }\n",
       "\n",
       "    .dataframe thead th {\n",
       "        text-align: right;\n",
       "    }\n",
       "</style>\n",
       "<table border=\"1\" class=\"dataframe\">\n",
       "  <thead>\n",
       "    <tr style=\"text-align: right;\">\n",
       "      <th></th>\n",
       "      <th>id</th>\n",
       "      <th>durationOfStay</th>\n",
       "      <th>gender</th>\n",
       "      <th>Age</th>\n",
       "      <th>kids</th>\n",
       "      <th>destinationCode</th>\n",
       "      <th>AcomType</th>\n",
       "    </tr>\n",
       "  </thead>\n",
       "  <tbody>\n",
       "    <tr>\n",
       "      <th>count</th>\n",
       "      <td>7202</td>\n",
       "      <td>7202</td>\n",
       "      <td>7202</td>\n",
       "      <td>7202</td>\n",
       "      <td>7202</td>\n",
       "      <td>7202</td>\n",
       "      <td>7202</td>\n",
       "    </tr>\n",
       "    <tr>\n",
       "      <th>unique</th>\n",
       "      <td>7202</td>\n",
       "      <td>12</td>\n",
       "      <td>2</td>\n",
       "      <td>37</td>\n",
       "      <td>2</td>\n",
       "      <td>8</td>\n",
       "      <td>2</td>\n",
       "    </tr>\n",
       "    <tr>\n",
       "      <th>top</th>\n",
       "      <td>1010286</td>\n",
       "      <td>4</td>\n",
       "      <td>F</td>\n",
       "      <td>40</td>\n",
       "      <td>1</td>\n",
       "      <td>BE</td>\n",
       "      <td>Hotel</td>\n",
       "    </tr>\n",
       "    <tr>\n",
       "      <th>freq</th>\n",
       "      <td>1</td>\n",
       "      <td>1651</td>\n",
       "      <td>3627</td>\n",
       "      <td>572</td>\n",
       "      <td>3628</td>\n",
       "      <td>947</td>\n",
       "      <td>4084</td>\n",
       "    </tr>\n",
       "  </tbody>\n",
       "</table>\n",
       "</div>"
      ],
      "text/plain": [
       "             id durationOfStay gender   Age  kids destinationCode AcomType\n",
       "count      7202           7202   7202  7202  7202            7202     7202\n",
       "unique     7202             12      2    37     2               8        2\n",
       "top     1010286              4      F    40     1              BE    Hotel\n",
       "freq          1           1651   3627   572  3628             947     4084"
      ]
     },
     "execution_count": 8,
     "metadata": {},
     "output_type": "execute_result"
    }
   ],
   "source": [
    "df.describe()"
   ]
  },
  {
   "cell_type": "markdown",
   "id": "be61066b",
   "metadata": {
    "papermill": {
     "duration": 0.009014,
     "end_time": "2022-08-04T20:03:19.602188",
     "exception": false,
     "start_time": "2022-08-04T20:03:19.593174",
     "status": "completed"
    },
    "tags": []
   },
   "source": [
    "#### 2.2 Data Visualisation <a class=\"anchor\" id=\"visualisation\"></a>"
   ]
  },
  {
   "cell_type": "code",
   "execution_count": 9,
   "id": "77ab7965",
   "metadata": {
    "execution": {
     "iopub.execute_input": "2022-08-04T20:03:19.626037Z",
     "iopub.status.busy": "2022-08-04T20:03:19.625184Z",
     "iopub.status.idle": "2022-08-04T20:03:19.635982Z",
     "shell.execute_reply": "2022-08-04T20:03:19.635068Z"
    },
    "papermill": {
     "duration": 0.025661,
     "end_time": "2022-08-04T20:03:19.638467",
     "exception": false,
     "start_time": "2022-08-04T20:03:19.612806",
     "status": "completed"
    },
    "tags": []
   },
   "outputs": [],
   "source": [
    "def plot_stacked_bar_chart(df, groups, title):\n",
    "    gp = df.groupby(groups)[groups[1]].count()\n",
    "    gp = gp.unstack()\n",
    "    gp['total'] = gp.iloc[:,:2].sum(axis=1)\n",
    "    gp = gp.sort_values(by=['total'])\n",
    "    gp = gp.drop(columns=['total'])\n",
    "    gp.plot(kind='barh',stacked=True, color = [\"#FF6961\",\"#A7C7E7\"],\n",
    "                  linewidth = 1, grid=True, figsize=(15,8), width=0.5)\n",
    "    plt.title(title, fontsize=16)\n",
    "    plt.xlabel('Number of acoms', fontsize=12)\n",
    "    plt.ylabel(\"\")\n",
    "    plt.legend(loc = 4,prop = {\"size\" : 13})\n",
    "    plt.rc('ytick', labelsize=13)\n",
    "    for i, v in enumerate(gp.iloc[:,0]):\n",
    "        plt.text(1.5*v, i + .27, str(v), color='black', fontweight='bold')\n",
    "    for i, v in enumerate(gp.iloc[:,1]):\n",
    "        plt.text(0.5*v, i + .27, str(v), color='black', fontweight='bold')\n",
    "    plt.show()"
   ]
  },
  {
   "cell_type": "code",
   "execution_count": 10,
   "id": "495e0fe5",
   "metadata": {
    "execution": {
     "iopub.execute_input": "2022-08-04T20:03:19.660281Z",
     "iopub.status.busy": "2022-08-04T20:03:19.659061Z",
     "iopub.status.idle": "2022-08-04T20:03:20.016618Z",
     "shell.execute_reply": "2022-08-04T20:03:20.015340Z"
    },
    "papermill": {
     "duration": 0.371487,
     "end_time": "2022-08-04T20:03:20.019450",
     "exception": false,
     "start_time": "2022-08-04T20:03:19.647963",
     "status": "completed"
    },
    "tags": []
   },
   "outputs": [
    {
     "data": {
      "image/png": "[encoded data removed]",
      "text/plain": [
       "<Figure size 1080x576 with 1 Axes>"
      ]
     },
     "metadata": {
      "needs_background": "light"
     },
     "output_type": "display_data"
    }
   ],
   "source": [
    "plot_stacked_bar_chart(df, ['destinationCode','AcomType'], 'Acom types by destination')"
   ]
  },
  {
   "cell_type": "code",
   "execution_count": 11,
   "id": "ba988f50",
   "metadata": {
    "execution": {
     "iopub.execute_input": "2022-08-04T20:03:20.041108Z",
     "iopub.status.busy": "2022-08-04T20:03:20.040463Z",
     "iopub.status.idle": "2022-08-04T20:03:20.345649Z",
     "shell.execute_reply": "2022-08-04T20:03:20.344145Z"
    },
    "papermill": {
     "duration": 0.319406,
     "end_time": "2022-08-04T20:03:20.348829",
     "exception": false,
     "start_time": "2022-08-04T20:03:20.029423",
     "status": "completed"
    },
    "tags": []
   },
   "outputs": [
    {
     "data": {
      "image/png": "[encoded data removed]",
      "text/plain": [
       "<Figure size 1080x576 with 1 Axes>"
      ]
     },
     "metadata": {
      "needs_background": "light"
     },
     "output_type": "display_data"
    }
   ],
   "source": [
    "plot_stacked_bar_chart(df, ['destinationCode', 'gender'], 'Gender by destination')"
   ]
  },
  {
   "cell_type": "code",
   "execution_count": 12,
   "id": "3718453c",
   "metadata": {
    "execution": {
     "iopub.execute_input": "2022-08-04T20:03:20.372036Z",
     "iopub.status.busy": "2022-08-04T20:03:20.371259Z",
     "iopub.status.idle": "2022-08-04T20:03:20.630822Z",
     "shell.execute_reply": "2022-08-04T20:03:20.629764Z"
    },
    "papermill": {
     "duration": 0.274138,
     "end_time": "2022-08-04T20:03:20.633862",
     "exception": false,
     "start_time": "2022-08-04T20:03:20.359724",
     "status": "completed"
    },
    "tags": []
   },
   "outputs": [
    {
     "data": {
      "image/png": "[encoded data removed]",
      "text/plain": [
       "<Figure size 1080x576 with 1 Axes>"
      ]
     },
     "metadata": {
      "needs_background": "light"
     },
     "output_type": "display_data"
    }
   ],
   "source": [
    "plot_stacked_bar_chart(df, ['gender','AcomType'], 'Acom types by gender')"
   ]
  },
  {
   "cell_type": "code",
   "execution_count": 13,
   "id": "b1891f5b",
   "metadata": {
    "execution": {
     "iopub.execute_input": "2022-08-04T20:03:20.656854Z",
     "iopub.status.busy": "2022-08-04T20:03:20.656442Z",
     "iopub.status.idle": "2022-08-04T20:03:20.912907Z",
     "shell.execute_reply": "2022-08-04T20:03:20.911616Z"
    },
    "papermill": {
     "duration": 0.271295,
     "end_time": "2022-08-04T20:03:20.915731",
     "exception": false,
     "start_time": "2022-08-04T20:03:20.644436",
     "status": "completed"
    },
    "tags": []
   },
   "outputs": [
    {
     "data": {
      "image/png": "[encoded data removed]",
      "text/plain": [
       "<Figure size 1080x576 with 1 Axes>"
      ]
     },
     "metadata": {
      "needs_background": "light"
     },
     "output_type": "display_data"
    }
   ],
   "source": [
    "plot_stacked_bar_chart(df, ['kids','AcomType'], 'Acom types by kids')"
   ]
  },
  {
   "cell_type": "code",
   "execution_count": 14,
   "id": "8265187c",
   "metadata": {
    "execution": {
     "iopub.execute_input": "2022-08-04T20:03:20.940321Z",
     "iopub.status.busy": "2022-08-04T20:03:20.939883Z",
     "iopub.status.idle": "2022-08-04T20:03:20.946342Z",
     "shell.execute_reply": "2022-08-04T20:03:20.945147Z"
    },
    "papermill": {
     "duration": 0.021123,
     "end_time": "2022-08-04T20:03:20.948771",
     "exception": false,
     "start_time": "2022-08-04T20:03:20.927648",
     "status": "completed"
    },
    "tags": []
   },
   "outputs": [],
   "source": [
    "def plot_distribution(df,column):\n",
    "    x = pd.to_numeric(df[column])\n",
    "    plt.figure(figsize=(15,8))\n",
    "    sns.histplot(x, stat=\"density\", \n",
    "             color = '#A7C7E7')\n",
    "    sns.kdeplot(x, color=\"#FF6961\", bw_adjust=1.5)\n",
    "    plt.title('{} density'.format(column), fontsize=16)\n",
    "    plt.xlabel(column, fontsize=12)\n",
    "    plt.show()"
   ]
  },
  {
   "cell_type": "code",
   "execution_count": 15,
   "id": "d397949f",
   "metadata": {
    "execution": {
     "iopub.execute_input": "2022-08-04T20:03:20.972811Z",
     "iopub.status.busy": "2022-08-04T20:03:20.972382Z",
     "iopub.status.idle": "2022-08-04T20:03:21.365319Z",
     "shell.execute_reply": "2022-08-04T20:03:21.364005Z"
    },
    "papermill": {
     "duration": 0.408785,
     "end_time": "2022-08-04T20:03:21.368126",
     "exception": false,
     "start_time": "2022-08-04T20:03:20.959341",
     "status": "completed"
    },
    "tags": []
   },
   "outputs": [
    {
     "data": {
      "image/png": "[encoded data removed]",
      "text/plain": [
       "<Figure size 1080x576 with 1 Axes>"
      ]
     },
     "metadata": {
      "needs_background": "light"
     },
     "output_type": "display_data"
    }
   ],
   "source": [
    "plot_distribution(df, 'durationOfStay')"
   ]
  },
  {
   "cell_type": "code",
   "execution_count": 16,
   "id": "970c9530",
   "metadata": {
    "execution": {
     "iopub.execute_input": "2022-08-04T20:03:21.392590Z",
     "iopub.status.busy": "2022-08-04T20:03:21.392150Z",
     "iopub.status.idle": "2022-08-04T20:03:21.771317Z",
     "shell.execute_reply": "2022-08-04T20:03:21.770429Z"
    },
    "papermill": {
     "duration": 0.39427,
     "end_time": "2022-08-04T20:03:21.773688",
     "exception": false,
     "start_time": "2022-08-04T20:03:21.379418",
     "status": "completed"
    },
    "tags": []
   },
   "outputs": [
    {
     "data": {
      "image/png": "[encoded data removed]",
      "text/plain": [
       "<Figure size 1080x576 with 1 Axes>"
      ]
     },
     "metadata": {
      "needs_background": "light"
     },
     "output_type": "display_data"
    }
   ],
   "source": [
    "plot_distribution(df, 'Age')"
   ]
  },
  {
   "cell_type": "markdown",
   "id": "99497798",
   "metadata": {
    "papermill": {
     "duration": 0.011116,
     "end_time": "2022-08-04T20:03:21.796455",
     "exception": false,
     "start_time": "2022-08-04T20:03:21.785339",
     "status": "completed"
    },
    "tags": []
   },
   "source": [
    "### 3. Data Preprocessing <a class=\"anchor\" id=\"data_preprocessing\"></a>"
   ]
  },
  {
   "cell_type": "markdown",
   "id": "1e4ee878",
   "metadata": {
    "papermill": {
     "duration": 0.011121,
     "end_time": "2022-08-04T20:03:21.819140",
     "exception": false,
     "start_time": "2022-08-04T20:03:21.808019",
     "status": "completed"
    },
    "tags": []
   },
   "source": [
    "#### 3.1 One Hot Encoding <a class=\"anchor\" id=\"ohe\"></a>"
   ]
  },
  {
   "cell_type": "code",
   "execution_count": 17,
   "id": "d4d88fe6",
   "metadata": {
    "execution": {
     "iopub.execute_input": "2022-08-04T20:03:21.844062Z",
     "iopub.status.busy": "2022-08-04T20:03:21.843681Z",
     "iopub.status.idle": "2022-08-04T20:03:21.871038Z",
     "shell.execute_reply": "2022-08-04T20:03:21.869609Z"
    },
    "papermill": {
     "duration": 0.043389,
     "end_time": "2022-08-04T20:03:21.874147",
     "exception": false,
     "start_time": "2022-08-04T20:03:21.830758",
     "status": "completed"
    },
    "tags": []
   },
   "outputs": [
    {
     "name": "stdout",
     "output_type": "stream",
     "text": [
      "   durationOfStay  gender Age kids  AcomType  dest_code_BE  dest_code_DK  \\\n",
      "0               7       0  40    0         1             0             0   \n",
      "2               4       0  39    1         0             0             0   \n",
      "3               5       0  45    0         0             0             0   \n",
      "4               5       1  45    1         0             0             0   \n",
      "5               7       0  47    1         1             0             0   \n",
      "6               3       0  53    0         0             0             0   \n",
      "7               2       0  47    0         0             0             0   \n",
      "8               3       1  39    1         1             0             0   \n",
      "10              4       1  34    1         1             0             1   \n",
      "12              7       1  37    1         1             0             0   \n",
      "\n",
      "    dest_code_ES  dest_code_FI  dest_code_IT  dest_code_NL  dest_code_SE  \\\n",
      "0              0             0             0             0             1   \n",
      "2              1             0             0             0             0   \n",
      "3              0             0             0             1             0   \n",
      "4              0             0             0             0             0   \n",
      "5              0             0             1             0             0   \n",
      "6              0             0             0             1             0   \n",
      "7              0             1             0             0             0   \n",
      "8              0             0             0             0             1   \n",
      "10             0             0             0             0             0   \n",
      "12             0             0             0             0             1   \n",
      "\n",
      "    dest_code_UK  \n",
      "0              0  \n",
      "2              0  \n",
      "3              0  \n",
      "4              1  \n",
      "5              0  \n",
      "6              0  \n",
      "7              0  \n",
      "8              0  \n",
      "10             0  \n",
      "12             0  \n"
     ]
    }
   ],
   "source": [
    "df['AcomType'] = df['AcomType'].map({'Apt':1, 'Hotel':0})\n",
    "df['gender'] = df['gender'].map({'M':1, 'F':0})\n",
    "df = df.drop(['id'], axis=1)\n",
    "ohe = pd.get_dummies(df['destinationCode'], prefix='dest_code')\n",
    "df = pd.concat([df, ohe], axis=1, join='inner')\n",
    "df = df.drop(['destinationCode'], axis=1)\n",
    "print(df[:10])"
   ]
  },
  {
   "cell_type": "code",
   "execution_count": 18,
   "id": "2f12d597",
   "metadata": {
    "execution": {
     "iopub.execute_input": "2022-08-04T20:03:21.900426Z",
     "iopub.status.busy": "2022-08-04T20:03:21.899212Z",
     "iopub.status.idle": "2022-08-04T20:03:21.910550Z",
     "shell.execute_reply": "2022-08-04T20:03:21.909663Z"
    },
    "papermill": {
     "duration": 0.027249,
     "end_time": "2022-08-04T20:03:21.913277",
     "exception": false,
     "start_time": "2022-08-04T20:03:21.886028",
     "status": "completed"
    },
    "tags": []
   },
   "outputs": [],
   "source": [
    "y = df['AcomType']\n",
    "x = df.drop(['AcomType'], axis=1)\n",
    "X_train, X_test, y_train, y_test = train_test_split(x, y, test_size=0.25, random_state=13)\n"
   ]
  },
  {
   "cell_type": "markdown",
   "id": "330aa572",
   "metadata": {
    "papermill": {
     "duration": 0.01125,
     "end_time": "2022-08-04T20:03:21.936200",
     "exception": false,
     "start_time": "2022-08-04T20:03:21.924950",
     "status": "completed"
    },
    "tags": []
   },
   "source": [
    "#### 3.2 Principal Component Analysis <a class=\"anchor\" id=\"pca\"></a>"
   ]
  },
  {
   "cell_type": "code",
   "execution_count": 19,
   "id": "5c06a208",
   "metadata": {
    "execution": {
     "iopub.execute_input": "2022-08-04T20:03:21.962519Z",
     "iopub.status.busy": "2022-08-04T20:03:21.961272Z",
     "iopub.status.idle": "2022-08-04T20:03:22.296858Z",
     "shell.execute_reply": "2022-08-04T20:03:22.295473Z"
    },
    "papermill": {
     "duration": 0.351101,
     "end_time": "2022-08-04T20:03:22.299330",
     "exception": false,
     "start_time": "2022-08-04T20:03:21.948229",
     "status": "completed"
    },
    "tags": []
   },
   "outputs": [
    {
     "data": {
      "image/png": "[encoded data removed]",
      "text/plain": [
       "<Figure size 1080x576 with 1 Axes>"
      ]
     },
     "metadata": {
      "needs_background": "light"
     },
     "output_type": "display_data"
    }
   ],
   "source": [
    "pca = PCA()\n",
    "\n",
    "pca.fit(X_train)\n",
    "plt.figure(figsize=(15, 8))\n",
    "features = range(pca.n_components_)\n",
    "plt.plot(features, pca.explained_variance_ratio_.cumsum(),'--o', label='cumulative explained variance ratio')\n",
    "plt.xlabel('PCA feature')\n",
    "plt.ylabel('variance')\n",
    "plt.xticks(features)\n",
    "plt.legend()\n",
    "plt.show()"
   ]
  },
  {
   "cell_type": "code",
   "execution_count": 20,
   "id": "46540337",
   "metadata": {
    "execution": {
     "iopub.execute_input": "2022-08-04T20:03:22.331221Z",
     "iopub.status.busy": "2022-08-04T20:03:22.329921Z",
     "iopub.status.idle": "2022-08-04T20:03:22.425355Z",
     "shell.execute_reply": "2022-08-04T20:03:22.423674Z"
    },
    "papermill": {
     "duration": 0.118172,
     "end_time": "2022-08-04T20:03:22.430564",
     "exception": false,
     "start_time": "2022-08-04T20:03:22.312392",
     "status": "completed"
    },
    "tags": []
   },
   "outputs": [
    {
     "name": "stdout",
     "output_type": "stream",
     "text": [
      "pca_X_train shape: (5401, 1)\n",
      "pca_X_test shape: (1801, 1)\n"
     ]
    }
   ],
   "source": [
    "pca = PCA(n_components=1)\n",
    "\n",
    "pca.fit(X_train)\n",
    "\n",
    "pca1_X_train = pca.transform(X_train)\n",
    "pca1_X_test = pca.transform(X_test)\n",
    "print('pca_X_train shape: {}'.format(pca1_X_train.shape))\n",
    "print('pca_X_test shape: {}'.format(pca1_X_test.shape))"
   ]
  },
  {
   "cell_type": "markdown",
   "id": "b59c6fb5",
   "metadata": {
    "papermill": {
     "duration": 0.029746,
     "end_time": "2022-08-04T20:03:22.491363",
     "exception": false,
     "start_time": "2022-08-04T20:03:22.461617",
     "status": "completed"
    },
    "tags": []
   },
   "source": [
    "#### 3.3 Scaling and PCA <a class=\"anchor\" id=\"scale_pca\"></a>"
   ]
  },
  {
   "cell_type": "code",
   "execution_count": 21,
   "id": "97d67c00",
   "metadata": {
    "execution": {
     "iopub.execute_input": "2022-08-04T20:03:22.547177Z",
     "iopub.status.busy": "2022-08-04T20:03:22.546767Z",
     "iopub.status.idle": "2022-08-04T20:03:23.036254Z",
     "shell.execute_reply": "2022-08-04T20:03:23.035308Z"
    },
    "papermill": {
     "duration": 0.515123,
     "end_time": "2022-08-04T20:03:23.038527",
     "exception": false,
     "start_time": "2022-08-04T20:03:22.523404",
     "status": "completed"
    },
    "tags": []
   },
   "outputs": [
    {
     "data": {
      "image/png": "[encoded data removed]",
      "text/plain": [
       "<Figure size 1080x576 with 1 Axes>"
      ]
     },
     "metadata": {
      "needs_background": "light"
     },
     "output_type": "display_data"
    }
   ],
   "source": [
    "scaler = StandardScaler()\n",
    "\n",
    "pca = PCA()\n",
    "\n",
    "pipeline = make_pipeline(scaler, pca)\n",
    "\n",
    "pipeline.fit(X_train)\n",
    "\n",
    "plt.figure(figsize=(15, 8))\n",
    "features = range(pca.n_components_)\n",
    "plt.plot(features, pca.explained_variance_ratio_.cumsum(),'--o', label='normalized cumulative explained variance ratio')\n",
    "plt.xlabel('PCA feature')\n",
    "plt.ylabel('variance')\n",
    "plt.xticks(features)\n",
    "plt.legend()\n",
    "plt.show()"
   ]
  },
  {
   "cell_type": "code",
   "execution_count": 22,
   "id": "72a55a03",
   "metadata": {
    "execution": {
     "iopub.execute_input": "2022-08-04T20:03:23.066457Z",
     "iopub.status.busy": "2022-08-04T20:03:23.065764Z",
     "iopub.status.idle": "2022-08-04T20:03:23.128437Z",
     "shell.execute_reply": "2022-08-04T20:03:23.126715Z"
    },
    "papermill": {
     "duration": 0.08313,
     "end_time": "2022-08-04T20:03:23.134461",
     "exception": false,
     "start_time": "2022-08-04T20:03:23.051331",
     "status": "completed"
    },
    "tags": []
   },
   "outputs": [
    {
     "name": "stdout",
     "output_type": "stream",
     "text": [
      "pca10_X_train shape: (5401, 10)\n",
      "pca10_X_test shape: (1801, 10)\n"
     ]
    }
   ],
   "source": [
    "scaler = StandardScaler()\n",
    "\n",
    "pca = PCA(n_components=10)\n",
    "\n",
    "pipeline = make_pipeline(scaler, pca)\n",
    "\n",
    "np_train = X_train.to_numpy()\n",
    "np_test = X_test.to_numpy()\n",
    "pipeline.fit(np_train)\n",
    "\n",
    "sc_pca10_X_train = pca.transform(np_train)\n",
    "sc_pca10_X_test = pca.transform(np_test)\n",
    "\n",
    "print('pca10_X_train shape: {}'.format(sc_pca10_X_train.shape))\n",
    "print('pca10_X_test shape: {}'.format(sc_pca10_X_test.shape))"
   ]
  },
  {
   "cell_type": "markdown",
   "id": "d8375ae9",
   "metadata": {
    "papermill": {
     "duration": 0.038676,
     "end_time": "2022-08-04T20:03:23.227638",
     "exception": false,
     "start_time": "2022-08-04T20:03:23.188962",
     "status": "completed"
    },
    "tags": []
   },
   "source": [
    "### 4. Testing basic classifiers <a class=\"anchor\" id=\"testing_classifiers\"></a>"
   ]
  },
  {
   "cell_type": "code",
   "execution_count": 23,
   "id": "941b36b3",
   "metadata": {
    "execution": {
     "iopub.execute_input": "2022-08-04T20:03:23.257475Z",
     "iopub.status.busy": "2022-08-04T20:03:23.257051Z",
     "iopub.status.idle": "2022-08-04T20:03:23.268204Z",
     "shell.execute_reply": "2022-08-04T20:03:23.266974Z"
    },
    "papermill": {
     "duration": 0.027713,
     "end_time": "2022-08-04T20:03:23.270729",
     "exception": false,
     "start_time": "2022-08-04T20:03:23.243016",
     "status": "completed"
    },
    "tags": []
   },
   "outputs": [],
   "source": [
    "def get_model_results(X_train, y_train, X_test, y_test):\n",
    "    results={}\n",
    "    def test_model(model):\n",
    "        start_time = time.time()\n",
    "        \n",
    "        model.fit(X_train, y_train)\n",
    "        test_accuracy = model.score(X_test, y_test)\n",
    "        model_probs = model.predict_proba(X_test)\n",
    "        model_bin = model.predict(X_test)\n",
    "        test_log_loss = log_loss(y_test, model_probs)\n",
    "        test_roc_auc = roc_auc_score(y_test, model_probs[:, 1])\n",
    "        test_f1 = f1_score(y_test, model_bin)\n",
    "        cv_acc = cross_val_score(model, X_train, y_train, scoring='accuracy', cv=5)\n",
    "        \n",
    "        scores= [cv_acc.mean(), test_accuracy, test_log_loss, test_roc_auc, test_f1, (time.time() - start_time)]\n",
    "        return scores\n",
    "    \n",
    "    m = DecisionTreeClassifier()\n",
    "    results['Decision tree 2'] = test_model(m)\n",
    "    \n",
    "    m = LogisticRegression()\n",
    "    results['Logistic Regression'] = test_model(m)\n",
    "    \n",
    "    m = RandomForestClassifier()\n",
    "    results['Random forest 100'] = test_model(m)\n",
    "    \n",
    "    m = KNeighborsClassifier()\n",
    "    results['KNN 5'] = test_model(m)\n",
    "    \n",
    "    results = pd.DataFrame.from_dict(results,orient='index')\n",
    "    results.columns=['CV mean accuracy', 'Test accuracy', 'Test log loss', 'Test AUC', 'Test F1', 'Calculation time (sec)'] \n",
    "    results=results.sort_values(by=['Test accuracy','Test log loss'],ascending=[False,True])\n",
    "\n",
    "    return results"
   ]
  },
  {
   "cell_type": "code",
   "execution_count": 24,
   "id": "5b4f4061",
   "metadata": {
    "execution": {
     "iopub.execute_input": "2022-08-04T20:03:23.298896Z",
     "iopub.status.busy": "2022-08-04T20:03:23.298212Z",
     "iopub.status.idle": "2022-08-04T20:03:28.202048Z",
     "shell.execute_reply": "2022-08-04T20:03:28.200891Z"
    },
    "papermill": {
     "duration": 4.921154,
     "end_time": "2022-08-04T20:03:28.204765",
     "exception": false,
     "start_time": "2022-08-04T20:03:23.283611",
     "status": "completed"
    },
    "tags": []
   },
   "outputs": [
    {
     "data": {
      "text/html": [
       "<div>\n",
       "<style scoped>\n",
       "    .dataframe tbody tr th:only-of-type {\n",
       "        vertical-align: middle;\n",
       "    }\n",
       "\n",
       "    .dataframe tbody tr th {\n",
       "        vertical-align: top;\n",
       "    }\n",
       "\n",
       "    .dataframe thead th {\n",
       "        text-align: right;\n",
       "    }\n",
       "</style>\n",
       "<table border=\"1\" class=\"dataframe\">\n",
       "  <thead>\n",
       "    <tr style=\"text-align: right;\">\n",
       "      <th></th>\n",
       "      <th>CV mean accuracy</th>\n",
       "      <th>Test accuracy</th>\n",
       "      <th>Test log loss</th>\n",
       "      <th>Test AUC</th>\n",
       "      <th>Test F1</th>\n",
       "      <th>Calculation time (sec)</th>\n",
       "    </tr>\n",
       "  </thead>\n",
       "  <tbody>\n",
       "    <tr>\n",
       "      <th>Random forest 100</th>\n",
       "      <td>0.788559</td>\n",
       "      <td>0.795114</td>\n",
       "      <td>1.097560</td>\n",
       "      <td>0.831449</td>\n",
       "      <td>0.768652</td>\n",
       "      <td>3.438358</td>\n",
       "    </tr>\n",
       "    <tr>\n",
       "      <th>Decision tree 2</th>\n",
       "      <td>0.747269</td>\n",
       "      <td>0.775680</td>\n",
       "      <td>5.865679</td>\n",
       "      <td>0.789583</td>\n",
       "      <td>0.733509</td>\n",
       "      <td>0.162143</td>\n",
       "    </tr>\n",
       "    <tr>\n",
       "      <th>KNN 5</th>\n",
       "      <td>0.685794</td>\n",
       "      <td>0.680178</td>\n",
       "      <td>1.649240</td>\n",
       "      <td>0.713288</td>\n",
       "      <td>0.620053</td>\n",
       "      <td>0.531183</td>\n",
       "    </tr>\n",
       "    <tr>\n",
       "      <th>Logistic Regression</th>\n",
       "      <td>0.568598</td>\n",
       "      <td>0.562465</td>\n",
       "      <td>0.685568</td>\n",
       "      <td>0.514390</td>\n",
       "      <td>0.000000</td>\n",
       "      <td>0.755598</td>\n",
       "    </tr>\n",
       "  </tbody>\n",
       "</table>\n",
       "</div>"
      ],
      "text/plain": [
       "                     CV mean accuracy  Test accuracy  Test log loss  Test AUC  \\\n",
       "Random forest 100            0.788559       0.795114       1.097560  0.831449   \n",
       "Decision tree 2              0.747269       0.775680       5.865679  0.789583   \n",
       "KNN 5                        0.685794       0.680178       1.649240  0.713288   \n",
       "Logistic Regression          0.568598       0.562465       0.685568  0.514390   \n",
       "\n",
       "                      Test F1  Calculation time (sec)  \n",
       "Random forest 100    0.768652                3.438358  \n",
       "Decision tree 2      0.733509                0.162143  \n",
       "KNN 5                0.620053                0.531183  \n",
       "Logistic Regression  0.000000                0.755598  "
      ]
     },
     "execution_count": 24,
     "metadata": {},
     "output_type": "execute_result"
    }
   ],
   "source": [
    "results = get_model_results(X_train, y_train, X_test, y_test)\n",
    "results"
   ]
  },
  {
   "cell_type": "code",
   "execution_count": 25,
   "id": "a79f4629",
   "metadata": {
    "execution": {
     "iopub.execute_input": "2022-08-04T20:03:28.232693Z",
     "iopub.status.busy": "2022-08-04T20:03:28.231905Z",
     "iopub.status.idle": "2022-08-04T20:03:36.671758Z",
     "shell.execute_reply": "2022-08-04T20:03:36.670744Z"
    },
    "papermill": {
     "duration": 8.457446,
     "end_time": "2022-08-04T20:03:36.675272",
     "exception": false,
     "start_time": "2022-08-04T20:03:28.217826",
     "status": "completed"
    },
    "tags": []
   },
   "outputs": [
    {
     "data": {
      "text/html": [
       "<div>\n",
       "<style scoped>\n",
       "    .dataframe tbody tr th:only-of-type {\n",
       "        vertical-align: middle;\n",
       "    }\n",
       "\n",
       "    .dataframe tbody tr th {\n",
       "        vertical-align: top;\n",
       "    }\n",
       "\n",
       "    .dataframe thead th {\n",
       "        text-align: right;\n",
       "    }\n",
       "</style>\n",
       "<table border=\"1\" class=\"dataframe\">\n",
       "  <thead>\n",
       "    <tr style=\"text-align: right;\">\n",
       "      <th></th>\n",
       "      <th>CV mean accuracy</th>\n",
       "      <th>Test accuracy</th>\n",
       "      <th>Test log loss</th>\n",
       "      <th>Test AUC</th>\n",
       "      <th>Test F1</th>\n",
       "      <th>Calculation time (sec)</th>\n",
       "    </tr>\n",
       "  </thead>\n",
       "  <tbody>\n",
       "    <tr>\n",
       "      <th>Random forest 100</th>\n",
       "      <td>0.695428</td>\n",
       "      <td>0.717379</td>\n",
       "      <td>2.080785</td>\n",
       "      <td>0.736177</td>\n",
       "      <td>0.676003</td>\n",
       "      <td>7.909011</td>\n",
       "    </tr>\n",
       "    <tr>\n",
       "      <th>Decision tree 2</th>\n",
       "      <td>0.693761</td>\n",
       "      <td>0.710716</td>\n",
       "      <td>7.995534</td>\n",
       "      <td>0.714682</td>\n",
       "      <td>0.654738</td>\n",
       "      <td>0.214566</td>\n",
       "    </tr>\n",
       "    <tr>\n",
       "      <th>KNN 5</th>\n",
       "      <td>0.629701</td>\n",
       "      <td>0.645197</td>\n",
       "      <td>2.188664</td>\n",
       "      <td>0.681630</td>\n",
       "      <td>0.579882</td>\n",
       "      <td>0.259712</td>\n",
       "    </tr>\n",
       "    <tr>\n",
       "      <th>Logistic Regression</th>\n",
       "      <td>0.568598</td>\n",
       "      <td>0.562465</td>\n",
       "      <td>0.685359</td>\n",
       "      <td>0.507917</td>\n",
       "      <td>0.000000</td>\n",
       "      <td>0.041593</td>\n",
       "    </tr>\n",
       "  </tbody>\n",
       "</table>\n",
       "</div>"
      ],
      "text/plain": [
       "                     CV mean accuracy  Test accuracy  Test log loss  Test AUC  \\\n",
       "Random forest 100            0.695428       0.717379       2.080785  0.736177   \n",
       "Decision tree 2              0.693761       0.710716       7.995534  0.714682   \n",
       "KNN 5                        0.629701       0.645197       2.188664  0.681630   \n",
       "Logistic Regression          0.568598       0.562465       0.685359  0.507917   \n",
       "\n",
       "                      Test F1  Calculation time (sec)  \n",
       "Random forest 100    0.676003                7.909011  \n",
       "Decision tree 2      0.654738                0.214566  \n",
       "KNN 5                0.579882                0.259712  \n",
       "Logistic Regression  0.000000                0.041593  "
      ]
     },
     "execution_count": 25,
     "metadata": {},
     "output_type": "execute_result"
    }
   ],
   "source": [
    "pca1_results = get_model_results(pca1_X_train, y_train, pca1_X_test, y_test)\n",
    "pca1_results"
   ]
  },
  {
   "cell_type": "code",
   "execution_count": 26,
   "id": "14ef5927",
   "metadata": {
    "execution": {
     "iopub.execute_input": "2022-08-04T20:03:36.705311Z",
     "iopub.status.busy": "2022-08-04T20:03:36.704421Z",
     "iopub.status.idle": "2022-08-04T20:03:47.558520Z",
     "shell.execute_reply": "2022-08-04T20:03:47.557472Z"
    },
    "papermill": {
     "duration": 10.872024,
     "end_time": "2022-08-04T20:03:47.560964",
     "exception": false,
     "start_time": "2022-08-04T20:03:36.688940",
     "status": "completed"
    },
    "tags": []
   },
   "outputs": [
    {
     "data": {
      "text/html": [
       "<div>\n",
       "<style scoped>\n",
       "    .dataframe tbody tr th:only-of-type {\n",
       "        vertical-align: middle;\n",
       "    }\n",
       "\n",
       "    .dataframe tbody tr th {\n",
       "        vertical-align: top;\n",
       "    }\n",
       "\n",
       "    .dataframe thead th {\n",
       "        text-align: right;\n",
       "    }\n",
       "</style>\n",
       "<table border=\"1\" class=\"dataframe\">\n",
       "  <thead>\n",
       "    <tr style=\"text-align: right;\">\n",
       "      <th></th>\n",
       "      <th>CV mean accuracy</th>\n",
       "      <th>Test accuracy</th>\n",
       "      <th>Test log loss</th>\n",
       "      <th>Test AUC</th>\n",
       "      <th>Test F1</th>\n",
       "      <th>Calculation time (sec)</th>\n",
       "    </tr>\n",
       "  </thead>\n",
       "  <tbody>\n",
       "    <tr>\n",
       "      <th>Random forest 100</th>\n",
       "      <td>0.735419</td>\n",
       "      <td>0.756802</td>\n",
       "      <td>0.870485</td>\n",
       "      <td>0.806341</td>\n",
       "      <td>0.719590</td>\n",
       "      <td>9.669653</td>\n",
       "    </tr>\n",
       "    <tr>\n",
       "      <th>Decision tree 2</th>\n",
       "      <td>0.719126</td>\n",
       "      <td>0.732371</td>\n",
       "      <td>7.419154</td>\n",
       "      <td>0.735604</td>\n",
       "      <td>0.683727</td>\n",
       "      <td>0.328949</td>\n",
       "    </tr>\n",
       "    <tr>\n",
       "      <th>KNN 5</th>\n",
       "      <td>0.685799</td>\n",
       "      <td>0.699056</td>\n",
       "      <td>1.983796</td>\n",
       "      <td>0.752855</td>\n",
       "      <td>0.650773</td>\n",
       "      <td>0.397677</td>\n",
       "    </tr>\n",
       "    <tr>\n",
       "      <th>Logistic Regression</th>\n",
       "      <td>0.568598</td>\n",
       "      <td>0.562465</td>\n",
       "      <td>0.685126</td>\n",
       "      <td>0.518908</td>\n",
       "      <td>0.000000</td>\n",
       "      <td>0.440141</td>\n",
       "    </tr>\n",
       "  </tbody>\n",
       "</table>\n",
       "</div>"
      ],
      "text/plain": [
       "                     CV mean accuracy  Test accuracy  Test log loss  Test AUC  \\\n",
       "Random forest 100            0.735419       0.756802       0.870485  0.806341   \n",
       "Decision tree 2              0.719126       0.732371       7.419154  0.735604   \n",
       "KNN 5                        0.685799       0.699056       1.983796  0.752855   \n",
       "Logistic Regression          0.568598       0.562465       0.685126  0.518908   \n",
       "\n",
       "                      Test F1  Calculation time (sec)  \n",
       "Random forest 100    0.719590                9.669653  \n",
       "Decision tree 2      0.683727                0.328949  \n",
       "KNN 5                0.650773                0.397677  \n",
       "Logistic Regression  0.000000                0.440141  "
      ]
     },
     "execution_count": 26,
     "metadata": {},
     "output_type": "execute_result"
    }
   ],
   "source": [
    "sc_pca10_results = get_model_results(sc_pca10_X_train, y_train, sc_pca10_X_test, y_test)\n",
    "sc_pca10_results"
   ]
  }
 ],
 "metadata": {
  "kernelspec": {
   "display_name": "Python 3",
   "language": "python",
   "name": "python3"
  },
  "language_info": {
   "codemirror_mode": {
    "name": "ipython",
    "version": 3
   },
   "file_extension": ".py",
   "mimetype": "text/x-python",
   "name": "python",
   "nbconvert_exporter": "python",
   "pygments_lexer": "ipython3",
   "version": "3.7.12"
  },
  "papermill": {
   "default_parameters": {},
   "duration": 42.152802,
   "end_time": "2022-08-04T20:03:48.498486",
   "environment_variables": {},
   "exception": null,
   "input_path": "__notebook__.ipynb",
   "output_path": "__notebook__.ipynb",
   "parameters": {},
   "start_time": "2022-08-04T20:03:06.345684",
   "version": "2.3.4"
  }
 },
 "nbformat": 4,
 "nbformat_minor": 5
}
