{
 "cells": [
  {
   "cell_type": "markdown",
   "metadata": {
    "_cell_guid": "2fe2078b-a062-4844-8bdd-a0229419ccbc",
    "_uuid": "6eeb185acd27b580bf3ba9037ec7c213dc53ca01",
    "collapsed": true
   },
   "source": [
    "## Introduction\n",
    "\n",
    "This time we're going to work with a tiny dataset of sick leave frequency by age and sex. The data was collected over the year. \n",
    "\n",
    "We'll try to answer these questions:\n",
    "<ol>\n",
    "<li>Do men always get sick more often than women or we have got that difference by random chance?</li>\n",
    "<li> And the same question about people who are over and under 35 y.o.</li>\n",
    "</ol>\n",
    "\n",
    "And one thing to consider: employees may take no more than 2 days as sick days for their own needs. So, they may not be sick at all.\n",
    "Under this condition let us open the veil."
   ]
  },
  {
   "cell_type": "code",
   "execution_count": null,
   "metadata": {
    "_cell_guid": "d4b244bc-e571-442d-b197-dda5bf671d97",
    "_uuid": "3500a14223dcb6172edcba4fa9438c5f7f4345e6",
    "collapsed": true
   },
   "outputs": [],
   "source": [
    "import pandas as pd\n",
    "import numpy as np\n",
    "import matplotlib.pyplot as plt"
   ]
  },
  {
   "cell_type": "markdown",
   "metadata": {
    "_cell_guid": "d9590b96-63d2-4a5b-8fdb-42465a810921",
    "_uuid": "bea3f2e575586272ca827b6706f8fb42337e259a"
   },
   "source": [
    "## Looking at the data\n",
    "\n",
    "At the first step, it is essential to look at the data structure and the data itself.\n",
    "\n",
    "Hopefully there is no missing data, although there are only 237 rows.<br>\n",
    "Nevertheless, we can still draw some sort of conclusion from our import."
   ]
  },
  {
   "cell_type": "code",
   "execution_count": null,
   "metadata": {
    "_cell_guid": "b97739a8-28ff-44f4-ae75-175007c78d52",
    "_uuid": "1a59ac842903aac9e15a1a9f8e5318d1660302d2",
    "collapsed": true
   },
   "outputs": [],
   "source": [
    "df = pd.DataFrame(pd.read_csv('./data/sick_leave.csv'))\n",
    "df.info()\n",
    "df.head()"
   ]
  },
  {
   "cell_type": "markdown",
   "metadata": {
    "_cell_guid": "48fb1f08-bcdc-4de0-a886-f08e07b22cbd",
    "_uuid": "03d0d3836a1b2efc14b92b76f5d8d03c380a4cb9",
    "collapsed": true
   },
   "source": [
    "Now let us draw a simple histogram to see the actual difference in number of sick leaves by groups."
   ]
  },
  {
   "cell_type": "code",
   "execution_count": null,
   "metadata": {
    "_cell_guid": "d0f895b8-d142-45ab-9936-e26d031ff9ca",
    "_uuid": "ce3911fc2e93bdb586d9840878bdc069552d7297",
    "collapsed": true
   },
   "outputs": [],
   "source": [
    "def draw_simple_hist(data_as_list, colors_as_list, labels_as_list, title):\n",
    "    \n",
    "    barlist=plt.bar(range(len(data_as_list)), data_as_list, alpha=0.5, color=colors_as_list)\n",
    "\n",
    "    for rect in barlist:\n",
    "        height = rect.get_height()\n",
    "        plt.text(rect.get_x() + rect.get_width()/2., 1.05*height,\n",
    "                    '%d' % int(height),\n",
    "                    ha='center', va='bottom')\n",
    "    axes = plt.gca()\n",
    "    axes.set_ylim([0,1.2*max(data_as_list)])\n",
    "    plt.xticks(range(len(data_as_list)),labels_as_list)\n",
    "    plt.title(title)"
   ]
  },
  {
   "cell_type": "code",
   "execution_count": null,
   "metadata": {
    "_cell_guid": "27a6baee-628b-44ea-acf3-11242750f108",
    "_uuid": "55dbbe8da7ca9cd55f20422fdea88a8932be0b0c",
    "collapsed": true
   },
   "outputs": [],
   "source": [
    "m = sum(df.loc[(df.iloc[:,2]=='M') & (df.iloc[:,0]>2),df.columns[0]])\n",
    "w = sum(df.loc[(df.iloc[:,2]=='F') & (df.iloc[:,0]>2),df.columns[0]])\n",
    "title = 'Desease frequency by sex'\n",
    "\n",
    "draw_simple_hist([m,w],['b','r'],['M','F'],title)\n",
    "plt.show()"
   ]
  },
  {
   "cell_type": "markdown",
   "metadata": {
    "_cell_guid": "95431186-35fb-47d6-a543-5b490bec47e3",
    "_uuid": "07a929a60dd53604237451f9c4b5436f3c387e9b"
   },
   "source": [
    "As can be clearly seen, men get sick more often then women. In this case by <b>~1.3 times</b>\n",
    "\n",
    "And here the first question arises: do men always get sick more often than women or we have got that difference by random chance?<br>\n",
    "To answer this question we may use one good method:\n",
    "1. Consider that there is no sick leave in desease frequency between men group and women group.\n",
    "2. Concatenate the values from men group and women group.\n",
    "3. After concatenation shuffle it to simulate another possible state for testing our hypothesis that data in men and women groups identically distributed.\n",
    "4. Then relabel shuffled data to form new men and women groups\n",
    "\n",
    "And that we will call a permutation sample."
   ]
  },
  {
   "cell_type": "code",
   "execution_count": null,
   "metadata": {
    "_cell_guid": "753fd362-045d-406b-8430-eec48ede3f40",
    "_uuid": "ea2d8b4adf5c27f93286983ebd90549bc201d0a6",
    "collapsed": true
   },
   "outputs": [],
   "source": [
    "def permutation_sample(data_1, data_2):\n",
    "    data = np.concatenate((data_1,data_2))\n",
    "    permuted_data = np.random.permutation(data)\n",
    "    perm_sample_1 = permuted_data[:len(data_1)]\n",
    "    perm_sample_2 = permuted_data[len(data_1):]\n",
    "    \n",
    "    return perm_sample_1, perm_sample_2"
   ]
  },
  {
   "cell_type": "markdown",
   "metadata": {
    "_cell_guid": "0fee5ab7-e1b2-4194-a0fc-f942f947663c",
    "_uuid": "df12150c083d0b54a1d12ce0d7ef3b46546feb12"
   },
   "source": [
    "However, a single permutation would only provide us one possible case of many.\n",
    "\n",
    "Thus, we better make a lot of them to understand how many times the difference we are looking for appears."
   ]
  },
  {
   "cell_type": "code",
   "execution_count": null,
   "metadata": {
    "_cell_guid": "22bf5e4b-0d98-4a04-bcaf-364db7e43871",
    "_uuid": "fd83eb818231000107713ebf40b994e439662b04",
    "collapsed": true
   },
   "outputs": [],
   "source": [
    "def make_perm_reps(data_1, data_2, func, size=1):\n",
    "\n",
    "    perm_replicates = np.empty(size)\n",
    "\n",
    "    for i in range(size):\n",
    "\n",
    "        perm_sample_1, perm_sample_2 = permutation_sample(data_1, data_2)\n",
    "\n",
    "        perm_replicates[i] = func(perm_sample_1, perm_sample_2)\n",
    "\n",
    "    return perm_replicates"
   ]
  },
  {
   "cell_type": "markdown",
   "metadata": {
    "_cell_guid": "ffea94bc-e238-466e-b46a-a5481abc2369",
    "_uuid": "bcb8e2d39ad6629cfb10c13f40e528c9aa7d931f"
   },
   "source": [
    "And as you have noticed in the code above there is one reference in <span style=\"color:blue\">make_perm_reps</span> - <b>func</b>.<br>This <b>func</b> is the mesurement we choose to answer the question of how reasonable the observed data is assuming the hypothesis of identical distribution is true.\n",
    "\n",
    "In this case we may use the measurement as difference in sums of sick leaves between two groups"
   ]
  },
  {
   "cell_type": "code",
   "execution_count": null,
   "metadata": {
    "_cell_guid": "78ea14fc-14d0-443d-af69-3d7c243363bb",
    "_uuid": "0fa0fadc471d68018a57f27b51a8ca6892324f6e",
    "collapsed": true
   },
   "outputs": [],
   "source": [
    "def diff_in_times(data_1, data_2):\n",
    "    return sum(data_1)/sum(data_2)"
   ]
  },
  {
   "cell_type": "markdown",
   "metadata": {
    "_cell_guid": "b203a31e-27dc-46fb-baa5-cd1127d731aa",
    "_uuid": "6621e73d8bb5283d4c7fa1c9e7feba340693d1f6"
   },
   "source": [
    "By this moment we have already created functions for simulating other cases with concrete measurement to compare with.\n",
    "\n",
    "Therefore, now we have the ability to make tests to see the comparison between observed data and the predictions based on our hypothesis.\n",
    "\n",
    "And via these tests make conclusions.\n",
    "\n",
    "With the assumption of identically distributed data we may suppose that there is no difference between men and women. So the difference in times should be equal to 1.\n",
    "\n",
    "From the current loaded file we have already got 1.3 times difference. <br>\n",
    "Next we have to find out is this difference outlier or not  by making **10 000 permutations** to be sure we have covered most cases.\n",
    "\n",
    "For this one interesting test statistic could be implemented. The p-value.\n",
    "With the p-value we can calculate the probability of obtaining difference from permutations that is at least as extreme as what we observed, with consideration that our data is identically distributed."
   ]
  },
  {
   "cell_type": "code",
   "execution_count": null,
   "metadata": {
    "_cell_guid": "993850f8-d281-4758-83c3-f2369066928f",
    "_uuid": "7448b3bbd9db4c2492a3f463f04947c74aaefb6c",
    "collapsed": true
   },
   "outputs": [],
   "source": [
    "def calc_p_value(data_1, data_2):\n",
    "    initial_diff_times = diff_in_times(data_1, data_2)\n",
    "\n",
    "    perm_replicates = make_perm_reps(data_1, data_2, diff_in_times, size=10000)\n",
    "\n",
    "    p_value = sum(perm_replicates>=initial_diff_times) / len(perm_replicates)\n",
    "    \n",
    "    return initial_diff_times, perm_replicates, p_value"
   ]
  },
  {
   "cell_type": "code",
   "execution_count": null,
   "metadata": {
    "_cell_guid": "8334c9e6-14ad-4a90-9ba8-83b2e6f88943",
    "_uuid": "613ecd517f92909f063df79ce74ef90d3f4d3b1d",
    "collapsed": true
   },
   "outputs": [],
   "source": [
    "def draw_perm_distr(perm_replicates):\n",
    "    plt.hist(perm_replicates, color='b', alpha=0.5, bins=100)\n",
    "    plt.title(\"Permutations' measurements\")\n",
    "    plt.xlabel('value')\n",
    "    plt.ylabel('frequency')"
   ]
  },
  {
   "cell_type": "code",
   "execution_count": null,
   "metadata": {
    "_cell_guid": "f027a040-ead6-4f32-81b5-7879af489e91",
    "_uuid": "c2d5244b7fb7d9c2f4f0fdbc3352b8a114320a93",
    "collapsed": true
   },
   "outputs": [],
   "source": [
    "def draw_p_value(perm_replicates, initial_diff_times, p_value):\n",
    "    perms = plt.hist(perm_replicates[perm_replicates<initial_diff_times], color='b', alpha=0.5, bins=100, label='permutations')\n",
    "    init = plt.plot([initial_diff_times]*2,[0,500], color='r', alpha=1, linewidth=3, label='observed difference')\n",
    "    pv = plt.hist(perm_replicates[perm_replicates>=initial_diff_times], color='g', alpha=0.5, bins=100, label='p-value')\n",
    "    plt.title('The share of values at least as extreme as observed, p-value')\n",
    "    ax = plt.gca()\n",
    "    handles, labels = ax.get_legend_handles_labels()\n",
    "    plt.legend(handles, labels, loc=1)\n",
    "    plt.xlabel('value')\n",
    "    plt.ylabel('frequency')"
   ]
  },
  {
   "cell_type": "code",
   "execution_count": null,
   "metadata": {
    "_cell_guid": "0cd41c16-22c0-400e-b7c2-e27aa8ec4d85",
    "_uuid": "44d3d26cd5bbacd6ce1c70ceff2c5cb934fd6cc4",
    "collapsed": true
   },
   "outputs": [],
   "source": [
    "men = df.loc[(df.iloc[:,2]=='M') & (df.iloc[:,0]>2),df.columns[0]]\n",
    "women = df.loc[(df.iloc[:,2]=='F') & (df.iloc[:,0]>2),df.columns[0]]\n",
    "\n",
    "\n",
    "initial_diff_times, perm_replicates, p_value = calc_p_value(men, women)"
   ]
  },
  {
   "cell_type": "code",
   "execution_count": null,
   "metadata": {
    "_cell_guid": "3c8b15fe-144a-4aa9-a49b-1e6dd46ca55d",
    "_uuid": "b0b15f1d6344c409b6089e5721205bfd42e6b499",
    "collapsed": true
   },
   "outputs": [],
   "source": [
    "plt.figure(figsize=(15,5))\n",
    "plt.subplot(121)\n",
    "draw_perm_distr(perm_replicates)\n",
    "plt.subplot(122)\n",
    "draw_p_value(perm_replicates, initial_diff_times, p_value)\n",
    "plt.show()"
   ]
  },
  {
   "cell_type": "code",
   "execution_count": null,
   "metadata": {
    "_cell_guid": "9d381745-205e-44eb-a276-9a32d6628577",
    "_uuid": "59b93eadbda7ef23f285671d0925a4f0b9fd4908",
    "collapsed": true
   },
   "outputs": [],
   "source": [
    "print('And the p-value equals... %1.3f' %p_value)"
   ]
  },
  {
   "cell_type": "markdown",
   "metadata": {
    "_cell_guid": "fa49c337-6319-48b7-abda-4ec1cdf17b57",
    "_uuid": "e6e92ea993693fbbb778d9d3f93934468bab74c2"
   },
   "source": [
    "Thus we can state that <b>~36% of the time</b> we would get the difference more or equal to the value we have observed.\n",
    "\n",
    "Therefore, one conclusion may be drawn from here - *men get sick more often than women minimum 36% of the time*."
   ]
  },
  {
   "cell_type": "markdown",
   "metadata": {
    "_cell_guid": "8f2d348f-8c08-4aed-9c9e-05a591a090c2",
    "_uuid": "96f7f1660add9bd9351a6aef145653c2cdf63ab3",
    "collapsed": true
   },
   "source": [
    "Thanks to us, the answer to the second question \"Do elders always get sick more often than babies or we have got that difference by random chance?\" is not that far as it was in the beginning.\n",
    "\n",
    "So all we need is to extract new filtered data and run it through the functions\n",
    "\n",
    "*Elders - people over 35 y.o.*<br>\n",
    "*Babies - people under 35 y.o.*"
   ]
  },
  {
   "cell_type": "code",
   "execution_count": null,
   "metadata": {
    "_uuid": "ebc46ee684a1bbbcd5bff4e1bb638daf403971d5",
    "collapsed": true
   },
   "outputs": [],
   "source": [
    "over_35 = df.loc[(df.iloc[:,1]>35) & (df.iloc[:,0]>2),df.columns[0]]\n",
    "under_35 = df.loc[(df.iloc[:,1]<=35) & (df.iloc[:,0]>2),df.columns[0]]\n",
    "\n",
    "initial_diff_times, perm_replicates, p_value = calc_p_value(over_35, under_35)"
   ]
  },
  {
   "cell_type": "code",
   "execution_count": null,
   "metadata": {
    "_uuid": "c0a20983990136d09514b98935e231126ece470a",
    "collapsed": true
   },
   "outputs": [],
   "source": [
    "plt.figure(figsize=(15,5))\n",
    "plt.subplot(121)\n",
    "title = 'Desease frequency by age'\n",
    "draw_simple_hist([sum(over_35),sum(under_35)],['b','r'],['Elders (over 35)','Babies (under 35)'],title)\n",
    "plt.subplot(122)\n",
    "draw_p_value(perm_replicates, initial_diff_times, p_value)\n",
    "plt.show()"
   ]
  },
  {
   "cell_type": "code",
   "execution_count": null,
   "metadata": {
    "_uuid": "efcd530404e8a2c7fb75d3fc506fefd480833b44",
    "collapsed": true
   },
   "outputs": [],
   "source": [
    "print('The p-value equals %1.3f' %p_value)"
   ]
  },
  {
   "cell_type": "markdown",
   "metadata": {
    "_uuid": "ceaa2a92fcb7e90593fd36f62c0b0a0f7e16fb0c"
   },
   "source": [
    "Wow, <b>~80% of the time</b>! That's interesting.\n",
    "\n",
    "Thus we got that elders get sick more often than babies in almost all cases with condition that our data is identically distributed."
   ]
  },
  {
   "cell_type": "code",
   "execution_count": null,
   "metadata": {
    "_uuid": "bf73f142f9cf7dd901c559ee55de463c3e8c53ef",
    "collapsed": true
   },
   "outputs": [],
   "source": []
  }
 ],
 "metadata": {
  "kernelspec": {
   "display_name": "Python 3 (ipykernel)",
   "language": "python",
   "name": "python3"
  },
  "language_info": {
   "codemirror_mode": {
    "name": "ipython",
    "version": 3
   },
   "file_extension": ".py",
   "mimetype": "text/x-python",
   "name": "python",
   "nbconvert_exporter": "python",
   "pygments_lexer": "ipython3",
   "version": "3.10.6"
  }
 },
 "nbformat": 4,
 "nbformat_minor": 1
}
